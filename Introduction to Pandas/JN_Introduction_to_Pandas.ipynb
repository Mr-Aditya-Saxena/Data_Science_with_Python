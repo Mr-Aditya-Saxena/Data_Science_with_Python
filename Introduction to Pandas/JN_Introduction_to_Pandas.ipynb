{
 "cells": [
  {
   "cell_type": "code",
   "execution_count": 63,
   "id": "7dcd2a2b-a722-4df5-a6d4-408d27ee6e50",
   "metadata": {},
   "outputs": [],
   "source": [
    "import pandas as pd\n",
    "import numpy as np"
   ]
  },
  {
   "cell_type": "code",
   "execution_count": 64,
   "id": "bf4f8648-ea6d-4f3f-b3a7-179c6d3f1f0f",
   "metadata": {},
   "outputs": [
    {
     "name": "stdout",
     "output_type": "stream",
     "text": [
      "An Introduction to Pandas\n",
      "Advantages of using Pandas are as follows : \n",
      "[1] intrinsic data alignment\n",
      "[2] data operation functions\n",
      "[3] functions to handle missing data values\n",
      "[4] data standardization functions\n",
      "[5] data structures handling major use cases\n"
     ]
    }
   ],
   "source": [
    "# [INTRODUCTION TO PANDAS]\n",
    "print(\"An Introduction to Pandas\")\n",
    "print(\"Advantages of using Pandas are as follows : \")\n",
    "print(\"[1] intrinsic data alignment\")\n",
    "print(\"[2] data operation functions\")\n",
    "print(\"[3] functions to handle missing data values\")\n",
    "print(\"[4] data standardization functions\")\n",
    "print(\"[5] data structures handling major use cases\")"
   ]
  },
  {
   "cell_type": "code",
   "execution_count": 65,
   "id": "4f656ff0-cf14-4d52-b1b6-81a9a1896fa8",
   "metadata": {},
   "outputs": [
    {
     "name": "stdout",
     "output_type": "stream",
     "text": [
      "Powerful Features of Pandas\n",
      "[1] powerful data structures.\n",
      "[2] fast and efficient data wrangling.\n",
      "[3] easy data aggregation and transformation.\n",
      "[4] tools for reading and writing data.\n",
      "[5] intelligent and automated data alignment.\n",
      "[6] high performance merging and joining of data sets.\n"
     ]
    }
   ],
   "source": [
    "# [POWERFUL FEATURES OF PANDAS]\n",
    "print(\"Powerful Features of Pandas\")\n",
    "print(\"[1] powerful data structures.\\n[2] fast and efficient data wrangling.\\n[3] easy data aggregation and transformation.\\n[4] tools for reading and writing data.\\n[5] intelligent and automated data alignment.\\n[6] high performance merging and joining of data sets.\")"
   ]
  },
  {
   "cell_type": "code",
   "execution_count": 66,
   "id": "4fa0603d-ebba-4db7-bfa4-b4555882ee5e",
   "metadata": {},
   "outputs": [
    {
     "name": "stdout",
     "output_type": "stream",
     "text": [
      "Types of Data Structures used in Pandas\n",
      "There are 4 key types of data structures in Pandas.\n",
      "{'[1] Series': 'One dimensional labeled array. Supports multiple data types.', '[2] Data Frame': 'Two dimensional labeled array. Supports multiple data types. Input can be a series. Input can be another dataframe', '[3] Panel': 'Three dimensional labeled array. Supports multiple data types. Items -> axis 0. Major axis -> rows. Minor axis -> columns', '[4] Panel 4D (Experimental)': 'Four dimensional labeled array. Supports multiple data types. Labels -> axis 0. Items -> axis -> 1. Major axis -> rows. Minor axis -> columns.'}\n"
     ]
    }
   ],
   "source": [
    "# [DATA STRUCTURES IN PANDAS]\n",
    "print(\"Types of Data Structures used in Pandas\")\n",
    "# using a dictionary to store the different types of Data Structures in Pandas.\n",
    "data_structures_in_pandas = {\n",
    "    \"[1] Series\":\"One dimensional labeled array. Supports multiple data types.\",\n",
    "    \"[2] Data Frame\":\"Two dimensional labeled array. Supports multiple data types. Input can be a series. Input can be another dataframe\",\n",
    "    \"[3] Panel\": \"Three dimensional labeled array. Supports multiple data types. Items -> axis 0. Major axis -> rows. Minor axis -> columns\",\n",
    "    \"[4] Panel 4D (Experimental)\":\"Four dimensional labeled array. Supports multiple data types. Labels -> axis 0. Items -> axis -> 1. Major axis -> rows. Minor axis -> columns.\"\n",
    "}\n",
    "print(\"There are \"+str(len(data_structures_in_pandas))+\" key types of data structures in Pandas.\")\n",
    "print(data_structures_in_pandas)"
   ]
  },
  {
   "cell_type": "code",
   "execution_count": 67,
   "id": "8453c7a4-9df2-4083-a2bb-7ba3a58388b7",
   "metadata": {},
   "outputs": [
    {
     "name": "stdout",
     "output_type": "stream",
     "text": [
      "Pandas can be used to read data from multiple file types.\n",
      "('read_excel_to_excel : xlxs', 'read_hdf_to_hdf : hdf', 'read_html_to_html : html')\n",
      "and so on...\n"
     ]
    }
   ],
   "source": [
    "# [READING FILES IN PANDAS]\n",
    "print(\"Pandas can be used to read data from multiple file types.\")\n",
    "supported_file_types = ('read_excel_to_excel : xlxs','read_hdf_to_hdf : hdf','read_html_to_html : html')\n",
    "print(supported_file_types)\n",
    "print(\"and so on...\")"
   ]
  },
  {
   "cell_type": "code",
   "execution_count": 68,
   "id": "21707ad2-885c-40ec-b388-9d4daba446e2",
   "metadata": {},
   "outputs": [],
   "source": [
    "# [INTRODUCTION TO SERIES IN PANDAS]\n",
    "# [1] Series can be created with different data inputs.\n",
    "# Data Types - Integer, String, Python Object, Floating Point\n",
    "# [2] Data Inputs - ndarray, dict, scalar, list\n",
    "# [3] Label (index)"
   ]
  },
  {
   "cell_type": "code",
   "execution_count": 69,
   "id": "70a50015-0fa0-401d-93bc-36ee99ea1003",
   "metadata": {},
   "outputs": [],
   "source": [
    "# [HOW TO CREATE A SERIES]\n",
    "# first step is to import pandas\n",
    "# import pandas as pd\n",
    "# import numpy as np"
   ]
  },
  {
   "cell_type": "code",
   "execution_count": 70,
   "id": "f2317572-f421-4f1b-a89e-8008a386e932",
   "metadata": {},
   "outputs": [],
   "source": [
    "# [CREATING A SERIES]\n",
    "first_series = pd.Series(list('abcdef'))"
   ]
  },
  {
   "cell_type": "code",
   "execution_count": 71,
   "id": "dddb6415-0d45-470c-af87-819bec475a1d",
   "metadata": {},
   "outputs": [
    {
     "name": "stdout",
     "output_type": "stream",
     "text": [
      "0    a\n",
      "1    b\n",
      "2    c\n",
      "3    d\n",
      "4    e\n",
      "5    f\n",
      "dtype: object\n"
     ]
    }
   ],
   "source": [
    "# [PRINTING THE SERIES]\n",
    "print(first_series)"
   ]
  },
  {
   "cell_type": "code",
   "execution_count": 72,
   "id": "7071117f-8415-410c-96b1-ee37168e630b",
   "metadata": {},
   "outputs": [],
   "source": [
    "# [CREATING A SERIES FROM AN ndarray]\n",
    "np_animals = np.array(['cat','dog','leopard','goose','rabbit','tortoise','lemur','puma','python','alligator'])\n",
    "series_animals = pd.Series(np_animals)"
   ]
  },
  {
   "cell_type": "code",
   "execution_count": 73,
   "id": "0262b1aa-9ae8-4c09-baad-aeaca666c93a",
   "metadata": {},
   "outputs": [
    {
     "name": "stdout",
     "output_type": "stream",
     "text": [
      "0          cat\n",
      "1          dog\n",
      "2      leopard\n",
      "3        goose\n",
      "4       rabbit\n",
      "5     tortoise\n",
      "6        lemur\n",
      "7         puma\n",
      "8       python\n",
      "9    alligator\n",
      "dtype: object\n"
     ]
    }
   ],
   "source": [
    "# [PRINTING THE ABOVE SERIES]\n",
    "print(series_animals)"
   ]
  },
  {
   "cell_type": "code",
   "execution_count": 74,
   "id": "242ee670-ee6e-48e2-aa10-44758b92df06",
   "metadata": {},
   "outputs": [],
   "source": [
    "# [CREATING A SERIES WITH DICT DATA INPUT FOR FASTER OPERATION]\n",
    "dict_animal_life_span = pd.Series([8,14,25,8,5,120,40,30,19,25], index = ['cat','dog','leopard','goose','rabbit','tortoise','lemur','puma','python','alligator'])"
   ]
  },
  {
   "cell_type": "code",
   "execution_count": 75,
   "id": "50b77baa-1e46-4bb1-b3a6-70cc2fbdb744",
   "metadata": {},
   "outputs": [
    {
     "name": "stdout",
     "output_type": "stream",
     "text": [
      "cat            8\n",
      "dog           14\n",
      "leopard       25\n",
      "goose          8\n",
      "rabbit         5\n",
      "tortoise     120\n",
      "lemur         40\n",
      "puma          30\n",
      "python        19\n",
      "alligator     25\n",
      "dtype: int64\n"
     ]
    }
   ],
   "source": [
    "# [PRINTING THE ABOVE SERIES]\n",
    "print(dict_animal_life_span)"
   ]
  },
  {
   "cell_type": "code",
   "execution_count": 76,
   "id": "7825a276-2874-490b-8f36-9ec4e87c1848",
   "metadata": {},
   "outputs": [
    {
     "data": {
      "text/plain": [
       "a    5.0\n",
       "b    5.0\n",
       "c    5.0\n",
       "d    5.0\n",
       "e    5.0\n",
       "f    5.0\n",
       "dtype: float64"
      ]
     },
     "execution_count": 76,
     "metadata": {},
     "output_type": "execute_result"
    }
   ],
   "source": [
    "# [PRINT SERIES WITH SCALAR INPUT]\n",
    "scalar_series = pd.Series(5.,index = ['a','b','c','d','e','f'])\n",
    "scalar_series"
   ]
  },
  {
   "cell_type": "code",
   "execution_count": 77,
   "id": "d9249265-01a3-4f56-a249-8fe152549828",
   "metadata": {},
   "outputs": [
    {
     "name": "stdout",
     "output_type": "stream",
     "text": [
      "a    5.0\n",
      "b    5.0\n",
      "c    5.0\n",
      "d    5.0\n",
      "e    5.0\n",
      "f    5.0\n",
      "dtype: float64\n"
     ]
    }
   ],
   "source": [
    "# [PRINTING THE ABOVE SERIES WITH PRINT FUNCTION]\n",
    "print(scalar_series)"
   ]
  },
  {
   "cell_type": "code",
   "execution_count": 79,
   "id": "07dc9cd7-f242-4c24-a629-88b2299aed85",
   "metadata": {},
   "outputs": [
    {
     "data": {
      "text/plain": [
       "8"
      ]
     },
     "execution_count": 79,
     "metadata": {},
     "output_type": "execute_result"
    }
   ],
   "source": [
    "# [ACCESSING ELEMENTS IN A SERIES]\n",
    "dict_animal_life_span[0]"
   ]
  },
  {
   "cell_type": "code",
   "execution_count": 80,
   "id": "c5e3b7cd-3d74-40f4-b848-b3c9666d98ea",
   "metadata": {},
   "outputs": [
    {
     "data": {
      "text/plain": [
       "cat         8\n",
       "dog        14\n",
       "leopard    25\n",
       "goose       8\n",
       "rabbit      5\n",
       "dtype: int64"
      ]
     },
     "execution_count": 80,
     "metadata": {},
     "output_type": "execute_result"
    }
   ],
   "source": [
    "# [ACCESS FIRST 5 ELEMENTS]\n",
    "dict_animal_life_span[0:5]"
   ]
  },
  {
   "cell_type": "code",
   "execution_count": 82,
   "id": "fd7db055-f018-4911-9f86-3b3bab5e66c9",
   "metadata": {},
   "outputs": [
    {
     "data": {
      "text/plain": [
       "25"
      ]
     },
     "execution_count": 82,
     "metadata": {},
     "output_type": "execute_result"
    }
   ],
   "source": [
    "# [LOOKUP AN ANIMAL BY NAME OR INDEX]\n",
    "dict_animal_life_span.loc['leopard']"
   ]
  },
  {
   "cell_type": "code",
   "execution_count": 85,
   "id": "e0a80809-39f2-48af-9650-55296fcacc62",
   "metadata": {},
   "outputs": [
    {
     "data": {
      "text/plain": [
       "5"
      ]
     },
     "execution_count": 85,
     "metadata": {},
     "output_type": "execute_result"
    }
   ],
   "source": [
    "# [LOOKUP AN ANIMAL BY POSITION] : Returns value for Rabbit\n",
    "dict_animal_life_span.iloc[4]"
   ]
  },
  {
   "cell_type": "code",
   "execution_count": 89,
   "id": "72dd08e7-3588-41e2-ae5d-04a4601ee5c1",
   "metadata": {},
   "outputs": [],
   "source": [
    "# [VECTORIZED OPERATIONS IN SERIES]\n",
    "first_vector_series = pd.Series([1,2,3,4,5],index = ['a','b','c','d','e'])\n",
    "second_vector_series = pd.Series([11,22,33,44,55],index = ['a','b','c','d','e'])"
   ]
  },
  {
   "cell_type": "code",
   "execution_count": 90,
   "id": "c2230377-2491-4eeb-b68e-d4f1c985c0cd",
   "metadata": {},
   "outputs": [
    {
     "data": {
      "text/plain": [
       "a    12\n",
       "b    24\n",
       "c    36\n",
       "d    48\n",
       "e    60\n",
       "dtype: int64"
      ]
     },
     "execution_count": 90,
     "metadata": {},
     "output_type": "execute_result"
    }
   ],
   "source": [
    "first_vector_series + second_vector_series"
   ]
  },
  {
   "cell_type": "code",
   "execution_count": null,
   "id": "f1eefde0-69bf-49d2-b904-3d7955a28d07",
   "metadata": {},
   "outputs": [],
   "source": []
  }
 ],
 "metadata": {
  "kernelspec": {
   "display_name": "Python 3 (ipykernel)",
   "language": "python",
   "name": "python3"
  },
  "language_info": {
   "codemirror_mode": {
    "name": "ipython",
    "version": 3
   },
   "file_extension": ".py",
   "mimetype": "text/x-python",
   "name": "python",
   "nbconvert_exporter": "python",
   "pygments_lexer": "ipython3",
   "version": "3.9.12"
  }
 },
 "nbformat": 4,
 "nbformat_minor": 5
}
